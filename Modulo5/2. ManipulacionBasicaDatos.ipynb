{
 "cells": [
  {
   "cell_type": "markdown",
   "metadata": {},
   "source": [
    "# Manipulación Basica de nuestro DataFrame\n",
    "------------------------\n",
    "\n",
    "En esta sección aprenderemos a manipular nuestro dataframe con el fin de poder crear automatizaciones sobre nuestros datos\n"
   ]
  },
  {
   "cell_type": "code",
   "execution_count": null,
   "metadata": {},
   "outputs": [],
   "source": [
    "# Para esta seccion iniciaremos cargando nuestra data\n",
    "\n",
    "import pandas as pd\n",
    "\n",
    "df = pd.read_csv('./src/winemag-data-130k-v2.csv')\n",
    "df.head()"
   ]
  },
  {
   "cell_type": "code",
   "execution_count": null,
   "metadata": {},
   "outputs": [],
   "source": [
    "df.shape"
   ]
  },
  {
   "cell_type": "markdown",
   "metadata": {},
   "source": [
    "## 1. Manipulación Basica de nuestro DataFrame"
   ]
  },
  {
   "cell_type": "markdown",
   "metadata": {},
   "source": [
    "### 1.1 Seleccion de Columnas"
   ]
  },
  {
   "cell_type": "code",
   "execution_count": null,
   "metadata": {},
   "outputs": [],
   "source": [
    "df.columns"
   ]
  },
  {
   "cell_type": "code",
   "execution_count": null,
   "metadata": {},
   "outputs": [],
   "source": [
    "# Seleccion de una columna\n",
    "df['country'].head()\n"
   ]
  },
  {
   "cell_type": "code",
   "execution_count": null,
   "metadata": {},
   "outputs": [],
   "source": [
    "# tambien es posible la seleccion de este modo\n",
    "df.country.head()"
   ]
  },
  {
   "cell_type": "code",
   "execution_count": null,
   "metadata": {},
   "outputs": [],
   "source": [
    "# Selección de múltiples columnas\n",
    "\n",
    "# emplearemos una lista\n",
    "columns_select = ['country','province']\n",
    "df_subset = df[columns_select]\n",
    "df_subset.head()"
   ]
  },
  {
   "cell_type": "code",
   "execution_count": null,
   "metadata": {},
   "outputs": [],
   "source": [
    "# renombrado de columnas\n",
    "\n",
    "# {'old_colname': 'new_colname'}\n",
    "df_rename = df.rename(columns={'Unnamed: 0': 'index'})\n",
    "df_rename.head()"
   ]
  },
  {
   "cell_type": "code",
   "execution_count": null,
   "metadata": {},
   "outputs": [],
   "source": [
    "# Eliminando columna\n",
    "df_drop= df_rename.drop(['index'], axis=1)\n",
    "\n",
    "df_drop.head(2)"
   ]
  },
  {
   "cell_type": "markdown",
   "metadata": {},
   "source": [
    "### 1.2 Aplicando Filtros\n",
    "\n",
    "Podemos filtrar un dataframe mediante condiciones booleanas sobre columnas\n"
   ]
  },
  {
   "cell_type": "code",
   "execution_count": null,
   "metadata": {},
   "outputs": [],
   "source": [
    "# condicion -> se encarga de establecer la condicion de Verdad o Falsedad \n",
    "condicion = df['country'] == 'Italy'\n",
    "condicion.head() "
   ]
  },
  {
   "cell_type": "code",
   "execution_count": null,
   "metadata": {},
   "outputs": [],
   "source": [
    "# usando la condicion como filtro\n",
    "df_filter = df[condicion]\n",
    "df_filter.head(2)"
   ]
  },
  {
   "cell_type": "code",
   "execution_count": null,
   "metadata": {},
   "outputs": [],
   "source": [
    "# método unique me brinda valores únicos de columna\n",
    "df_filter.country.unique()"
   ]
  },
  {
   "cell_type": "markdown",
   "metadata": {},
   "source": [
    "podemos concatenar varias condiciones usando `&` para **AND** ,  `|` para **OR** y `~` como **NOT** o negacion.\n",
    "\n",
    "Tambien debemos recordar los operadores: `==` , `!=` , `>`, `<` , `>=` , `<=`"
   ]
  },
  {
   "cell_type": "code",
   "execution_count": null,
   "metadata": {},
   "outputs": [],
   "source": [
    "condicion  = (df.country==\"Italy\") & (df.points>=90)\n",
    "df[condicion].head()"
   ]
  },
  {
   "cell_type": "code",
   "execution_count": null,
   "metadata": {},
   "outputs": [],
   "source": [
    "# método 'unique' -> permite obtener valores unicos de una columna\n",
    "\n",
    "df.country.unique()"
   ]
  },
  {
   "cell_type": "code",
   "execution_count": null,
   "metadata": {},
   "outputs": [],
   "source": [
    "# valores únicos de columnas\n",
    "df_var = df[['winery','variety']].drop_duplicates(subset=['winery','variety'])\n",
    "df_var"
   ]
  },
  {
   "cell_type": "markdown",
   "metadata": {},
   "source": [
    "Para ver más formas de filtrado [ver](https://towardsdatascience.com/filtering-data-frames-in-pandas-b570b1f834b9)"
   ]
  },
  {
   "cell_type": "markdown",
   "metadata": {},
   "source": [
    "### 1.3 Aplicación de lógicas a nuestros DataFrame\n",
    "\n",
    "Podemos aplicar lógicas o añadir constantes a nuestros dataFrames.\n"
   ]
  },
  {
   "cell_type": "code",
   "execution_count": null,
   "metadata": {},
   "outputs": [],
   "source": [
    "df_rename.head(2)"
   ]
  },
  {
   "cell_type": "code",
   "execution_count": null,
   "metadata": {},
   "outputs": [],
   "source": [
    "# se pueden realizar operaciones básicas a columnas aplicando lógicas\n",
    "# Generacion de constantes\n",
    "\n",
    "df_rename['ajuste_precio'] = 1.2\n",
    "df_rename.head()"
   ]
  },
  {
   "cell_type": "code",
   "execution_count": null,
   "metadata": {},
   "outputs": [],
   "source": [
    "# Operaciones como suma , resta, multiplicacion de columnas son validas\n",
    "df_rename['new_price'] = df_rename.price * df_rename.ajuste_precio\n",
    "df_rename.head(6)"
   ]
  },
  {
   "cell_type": "markdown",
   "metadata": {},
   "source": [
    "podemos usar `apply` en una columna para obtener una nueva columna en función de sus valores"
   ]
  },
  {
   "cell_type": "code",
   "execution_count": null,
   "metadata": {},
   "outputs": [],
   "source": [
    "# df_rename.price.unique()\n",
    "\n",
    "# Según el precio de la botella de vino aplicar una etiqueta\n",
    "# Si precio <100 -> Precio accesible\n",
    "# SI precio >=100 and precio <=500 -> 'vino es moderadamente costoso'\n",
    "# Si precio >500 -> 'muy caro'\n",
    "\n",
    "def etiqueta_precio(precio:float):\n",
    "\n",
    "    if precio<100:\n",
    "        return 'Precio accesible'\n",
    "    elif precio <=500 and precio >=100:\n",
    "        return 'Precio moderadamente alto'\n",
    "    elif precio >500:\n",
    "        return 'Precio muy caro'\n",
    "    else:\n",
    "        return None\n",
    "\n",
    "etiqueta_precio(1500)\n"
   ]
  },
  {
   "cell_type": "code",
   "execution_count": null,
   "metadata": {},
   "outputs": [],
   "source": [
    "df_rename['etiqueta_costo'] = df_rename.price.apply(etiqueta_precio)\n",
    "\n",
    "df_rename.head()"
   ]
  },
  {
   "cell_type": "code",
   "execution_count": null,
   "metadata": {},
   "outputs": [],
   "source": [
    "# aplicando lógicas mediante funciones\n",
    "\n",
    "def incremento_precio_por_pais(row):\n",
    "    if row.country == 'Italy':\n",
    "        return row.price *1.5\n",
    "    else:\n",
    "        return row.price\n",
    "\n",
    "\n",
    "df_rename['price_by_country'] = df_rename.apply(incremento_precio_por_pais, axis='columns')"
   ]
  },
  {
   "cell_type": "code",
   "execution_count": null,
   "metadata": {},
   "outputs": [],
   "source": [
    "df_rename[['country', 'price', 'price_by_country']].head(20)"
   ]
  },
  {
   "cell_type": "code",
   "execution_count": null,
   "metadata": {},
   "outputs": [],
   "source": [
    "df_rename.to_excel('./output/wine_review.xlsx', index=False)"
   ]
  },
  {
   "cell_type": "markdown",
   "metadata": {},
   "source": [
    "https://www.kaggle.com/code/residentmario/indexing-selecting-assigning\n",
    "\n",
    "\n",
    "https://www.kaggle.com/code/residentmario/summary-functions-and-maps"
   ]
  },
  {
   "cell_type": "markdown",
   "metadata": {},
   "source": [
    "# Ejercicios\n",
    "---------------------------------------------"
   ]
  },
  {
   "cell_type": "code",
   "execution_count": null,
   "metadata": {},
   "outputs": [],
   "source": [
    "# Me solicitan generar un archivo excel por cada uno de los paises en el archivo 'wine_review'\n"
   ]
  }
 ],
 "metadata": {
  "kernelspec": {
   "display_name": "Python 3",
   "language": "python",
   "name": "python3"
  },
  "language_info": {
   "codemirror_mode": {
    "name": "ipython",
    "version": 3
   },
   "file_extension": ".py",
   "mimetype": "text/x-python",
   "name": "python",
   "nbconvert_exporter": "python",
   "pygments_lexer": "ipython3",
   "version": "3.11.5"
  },
  "orig_nbformat": 4
 },
 "nbformat": 4,
 "nbformat_minor": 2
}
